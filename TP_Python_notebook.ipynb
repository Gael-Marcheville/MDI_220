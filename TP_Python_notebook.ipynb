{
 "cells": [
  {
   "cell_type": "markdown",
   "metadata": {},
   "source": [
    "# TP: Introduction to Python"
   ]
  },
  {
   "cell_type": "code",
   "execution_count": 1,
   "metadata": {},
   "outputs": [],
   "source": [
    "%matplotlib notebook\n",
    "import numpy as np                  # import a package with specified name\n",
    "from sklearn import linear_model    # import whole module\n",
    "from os import mkdir, rmdir, path   # import a function\n",
    "from inspect import getsourcelines  # get function source code\n",
    "import string\n",
    "import time\n",
    "import pandas as pd\n",
    "import matplotlib.pyplot as plt     # for plots\n",
    "import seaborn as sns               # for plots\n",
    "\n",
    "sns.set_palette(\"colorblind\")\n",
    "color_blind_list = sns.color_palette(\"colorblind\", 8)\n",
    "plt.style.use('bmh')"
   ]
  },
  {
   "cell_type": "code",
   "execution_count": 45,
   "metadata": {},
   "outputs": [],
   "source": [
    "# initialize random generator.\n",
    "# see: https://numpy.org/doc/stable/reference/random/index.html#random-quick-start\n",
    "rng = np.random.default_rng(17)"
   ]
  },
  {
   "cell_type": "markdown",
   "metadata": {},
   "source": [
    "# 1) Introduction: Python, Numpy et Scipy"
   ]
  },
  {
   "cell_type": "markdown",
   "metadata": {},
   "source": [
    "## Question 1 : \n",
    "Écrire une fonction ```nextpower``` qui calcule la première puissance de 2 supérieure ou égale à un nombre $n$ (on veillera a ce que le type de sortie soit un <font color='red'>**int**</font>, tester cela avec <font color='red'>**type**</font> par exemple)."
   ]
  },
  {
   "cell_type": "code",
   "execution_count": 3,
   "metadata": {},
   "outputs": [],
   "source": [
    "def nextpower(n):\n",
    "    a = 1\n",
    "    while a < n :\n",
    "        a*=2\n",
    "    return a"
   ]
  },
  {
   "cell_type": "code",
   "execution_count": 7,
   "metadata": {},
   "outputs": [
    {
     "data": {
      "text/plain": [
       "int"
      ]
     },
     "execution_count": 7,
     "metadata": {},
     "output_type": "execute_result"
    }
   ],
   "source": [
    "#nextpower(15)\n",
    "type(nextpower(15))"
   ]
  },
  {
   "cell_type": "markdown",
   "metadata": {},
   "source": [
    "## Question 2 :\n",
    "En partant du mot contenant toutes les lettres de l'alphabet, générer par une opération de *slicing* la chaîne de caractère ```cfilorux``` et, de deux façons différentes, la chaîne de caractère ```vxz```."
   ]
  },
  {
   "cell_type": "code",
   "execution_count": 9,
   "metadata": {},
   "outputs": [
    {
     "data": {
      "text/plain": [
       "'cfilorux'"
      ]
     },
     "execution_count": 9,
     "metadata": {},
     "output_type": "execute_result"
    }
   ],
   "source": [
    "alphabet = string.ascii_lowercase"
   ]
  },
  {
   "cell_type": "code",
   "execution_count": 15,
   "metadata": {},
   "outputs": [
    {
     "data": {
      "text/plain": [
       "'vxz'"
      ]
     },
     "execution_count": 15,
     "metadata": {},
     "output_type": "execute_result"
    }
   ],
   "source": [
    "alphabet[2::3] #cfilorux\n",
    "alphabet[21::2] #vxz1"
   ]
  },
  {
   "cell_type": "markdown",
   "metadata": {},
   "source": [
    "## Question 3 :\n",
    "Afficher le nombre $\\pi$ avec 9 décimales après la virgule."
   ]
  },
  {
   "cell_type": "code",
   "execution_count": 17,
   "metadata": {},
   "outputs": [
    {
     "data": {
      "text/plain": [
       "3.141592654"
      ]
     },
     "execution_count": 17,
     "metadata": {},
     "output_type": "execute_result"
    }
   ],
   "source": [
    "# π\n",
    "round(np.pi,9)\n"
   ]
  },
  {
   "cell_type": "markdown",
   "metadata": {},
   "source": [
    "## Question 4 :\n",
    "Compter le nombre d’occurrences de chaque caractère dans la chaîne de caractères ```s=\"HelLo WorLd!!!\" ```. On renverra un dictionnaire qui à chaque lettre associe son nombre d’occurrences."
   ]
  },
  {
   "cell_type": "code",
   "execution_count": 53,
   "metadata": {
    "scrolled": true
   },
   "outputs": [
    {
     "data": {
      "text/plain": [
       "{'H': 1,\n",
       " 'e': 1,\n",
       " 'l': 1,\n",
       " 'L': 2,\n",
       " 'o': 2,\n",
       " ' ': 1,\n",
       " 'W': 1,\n",
       " 'r': 1,\n",
       " 'd': 1,\n",
       " '!': 3}"
      ]
     },
     "execution_count": 53,
     "metadata": {},
     "output_type": "execute_result"
    }
   ],
   "source": [
    "s = \"HelLo WorLd!!!\"\n",
    "dic = {}\n",
    "for a in s :\n",
    "    if a in dic :\n",
    "        dic[a] += 1\n",
    "    else :\n",
    "        dic[a] = 1\n",
    "dic"
   ]
  },
  {
   "cell_type": "markdown",
   "metadata": {},
   "source": [
    "## Question 5 :\n",
    "Écrire une fonction de codage par inversion de lettres (aussi connu sous le nom de code de César): chaque lettre d'un mot est remplacée par une (et une seule) autre. On se servira de la fonction ```shuffle``` sur la chaîne de caractère contenant tout l'alphabet, ou de ```rng.permutation```"
   ]
  },
  {
   "cell_type": "code",
   "execution_count": 48,
   "metadata": {},
   "outputs": [],
   "source": [
    "def coding(message, clef):\n",
    "    \"\"\"encodage\"\"\"\n",
    "    s = string.ascii_lowercase #la clef est la permutation\n",
    "    code = \"\"\n",
    "    for a in message :\n",
    "        a_ind = s.index(a)\n",
    "        code += s[clef[a_ind]]\n",
    "    return code"
   ]
  },
  {
   "cell_type": "code",
   "execution_count": 52,
   "metadata": {},
   "outputs": [
    {
     "data": {
      "text/plain": [
       "'evse'"
      ]
     },
     "execution_count": 52,
     "metadata": {},
     "output_type": "execute_result"
    }
   ],
   "source": [
    "# test coding here.\n",
    "message = \"test\"\n",
    "clef = rng.permutation(26)\n",
    "coding(message,clef)\n"
   ]
  },
  {
   "cell_type": "markdown",
   "metadata": {},
   "source": [
    "PS: un peu de lecture sur l'utf8: [sam & max](https://web.archive.org/web/20200214133339/http://sametmax.com/lencoding-en-python-une-bonne-fois-pour-toute)"
   ]
  },
  {
   "cell_type": "markdown",
   "metadata": {},
   "source": [
    "## Question 6 :\n",
    "Calculer $ 2 \\displaystyle\\prod_{k=1}^{\\infty}\\frac{4 k^2}{4k^2-1}$ efficacement. On pourra utiliser ```time``` (ou ```%timeit``` pour déterminer la rapidité de votre méthode. Proposer une version sans boucle utilisant ```Numpy```."
   ]
  },
  {
   "cell_type": "code",
   "execution_count": 166,
   "metadata": {},
   "outputs": [],
   "source": [
    "def wallis(k):\n",
    "    result = 1\n",
    "    for i in range (1,k) :\n",
    "        result *= 4 * (i ** 2) / (4 * (i ** 2) - 1.)\n",
    "    return 2*result\n",
    "        \n",
    "def wallis_numpy(k):\n",
    "    tab = np.arange(1,k+1)\n",
    "    tab = tab ** 2\n",
    "    tab = 4 * tab / (4 * tab - 1)\n",
    "    return 2*np.prod(tab)\n",
    "    "
   ]
  },
  {
   "cell_type": "markdown",
   "metadata": {},
   "source": [
    "Les commandes \"magic\" de type %timeit dans Jupyter peuvent aussi s'averer utiles:"
   ]
  },
  {
   "cell_type": "code",
   "execution_count": 175,
   "metadata": {},
   "outputs": [
    {
     "name": "stdout",
     "output_type": "stream",
     "text": [
      "3.1415141108281714\n",
      "--- 0.0058825016021728516 seconds for wallis ---\n",
      "3.1415141186819566\n",
      "--- 0.0023260116577148438 seconds for wallis_numpy ---\n"
     ]
    }
   ],
   "source": [
    "start_time = time.time()\n",
    "print(wallis(10000))\n",
    "print(\"--- %s seconds for wallis ---\" % (time.time() - start_time))\n",
    "start_time = time.time()\n",
    "print(wallis_numpy(10000))\n",
    "print(\"--- %s seconds for wallis_numpy ---\" % (time.time() - start_time))"
   ]
  },
  {
   "cell_type": "markdown",
   "metadata": {},
   "source": [
    "## Question 7 :\n",
    "Créer une fonction ```quicksort``` qui trie une liste, en remplissant les éléments manquants dans le code suivant. On testera que la fonction est correcte sur l'exemple ```quicksort([-2, 3, 5, 1, 3])```:"
   ]
  },
  {
   "cell_type": "code",
   "execution_count": 180,
   "metadata": {},
   "outputs": [],
   "source": [
    "def quicksort(ll):\n",
    "    \"\"\"A sorting function with a pivot value.\"\"\"\n",
    "    if len(ll) <= 1:\n",
    "        return ll\n",
    "    else:\n",
    "        pivot = ll[0]\n",
    "        less = []\n",
    "        greater = []\n",
    "        for x in ll[1:]:\n",
    "            if x <= pivot:\n",
    "                less.append(x)\n",
    "            else:\n",
    "                greater.append(x)\n",
    "        return quicksort(less) + [pivot] + quicksort(greater)"
   ]
  },
  {
   "cell_type": "code",
   "execution_count": 182,
   "metadata": {},
   "outputs": [
    {
     "data": {
      "text/plain": [
       "[-2, 1, 3, 3, 5]"
      ]
     },
     "execution_count": 182,
     "metadata": {},
     "output_type": "execute_result"
    }
   ],
   "source": [
    "quicksort([-2, 3, 5, 1, 3])"
   ]
  },
  {
   "cell_type": "markdown",
   "metadata": {},
   "source": [
    "## Question 8 : \n",
    "Sans utiliser de boucles ```for / while ```:\n",
    "créer une matrice $M \\in \\mathbb{R}^{5\\times6}$ aléatoire à coefficients uniformes dans $[-1, 1]$, puis remplacer une colonne sur deux par sa valeur moins le double de la colonne suivante. Remplacer enfin les valeurs négatives par 0 en utilisant un masque binaire."
   ]
  },
  {
   "cell_type": "code",
   "execution_count": null,
   "metadata": {},
   "outputs": [],
   "source": [
    "np.set_printoptions(precision=3) # makes printing matrices easier on the eyes.\n"
   ]
  },
  {
   "cell_type": "code",
   "execution_count": null,
   "metadata": {},
   "outputs": [],
   "source": [
    "# la matrice ici."
   ]
  },
  {
   "cell_type": "markdown",
   "metadata": {},
   "source": [
    "## Question 9 :\n",
    "Créer une matrice $M \\in \\mathbb{R}^{5\\times 20}$ aléatoire à coefficients uniformes dans $[-1, 1]$. Tester que $G=M^\\top M$ est symétrique et que ses valeurs propres sont positives (on parle de alors de matrice définie positive). Quel est le rang de $G$?\n",
    "  \n",
    "**Aide**: on utilisera par exemple ```np.allclose, np.logical_not, np.all``` pour les tests numériques."
   ]
  },
  {
   "cell_type": "code",
   "execution_count": null,
   "metadata": {},
   "outputs": [],
   "source": [
    "#matrice"
   ]
  },
  {
   "cell_type": "code",
   "execution_count": null,
   "metadata": {},
   "outputs": [],
   "source": [
    "#calcul du rang"
   ]
  },
  {
   "cell_type": "markdown",
   "metadata": {},
   "source": [
    "# 2)  Introduction: Pandas, Matplotlib, etc."
   ]
  },
  {
   "cell_type": "markdown",
   "metadata": {},
   "source": [
    "## Question 1 :\n",
    "Chargement de la base de données. Détecter et dénombrer le nombre de lignes ayant des valeurs manquantes."
   ]
  },
  {
   "cell_type": "code",
   "execution_count": null,
   "metadata": {},
   "outputs": [],
   "source": [
    "url = u'https://archive.ics.uci.edu/ml/machine-learning-databases/00235/household_power_consumption.zip'"
   ]
  },
  {
   "cell_type": "code",
   "execution_count": null,
   "metadata": {},
   "outputs": [],
   "source": [
    "# Detect and count lines with missing values.\n",
    "na_values = ['?', '']\n",
    "fields = ['Date', 'Time', 'Global_active_power']\n",
    "\n",
    "# Whole columns names:\n",
    "# Date;Time;Global_active_power;Global_reactive_power;Voltage;Global_intensity;Sub_metering_1;Sub_metering_2;Sub_metering_3\n",
    "\n",
    "df = pd.read_csv(url, sep=';', nrows=200000, na_values=na_values, usecols=fields,)"
   ]
  },
  {
   "cell_type": "code",
   "execution_count": null,
   "metadata": {},
   "outputs": [],
   "source": [
    "df.head()"
   ]
  },
  {
   "cell_type": "markdown",
   "metadata": {},
   "source": [
    "## Question 2 :\n",
    "Supprimer toutes les lignes avec des valeurs manquantes."
   ]
  },
  {
   "cell_type": "markdown",
   "metadata": {},
   "source": [
    "## Question 3 :\n",
    " Utiliser ```to_datetime``` et ```set_index``` pour indexer le Data Frame (on prendra garde au format des dates internationales qui diffère du format français).\n"
   ]
  },
  {
   "cell_type": "markdown",
   "metadata": {},
   "source": [
    "## Question 4 :\n",
    "Afficher le graphique des moyennes journalières entre le 1er janvier et le 30 avril 2007. Proposer une cause expliquant la consommation fin février et début avril. On pourra utiliser en plus de ```matplotlib``` le package ```seaborn``` pour améliorer le rendu visuel."
   ]
  },
  {
   "cell_type": "markdown",
   "metadata": {},
   "source": [
    "## Question 5 : \n",
    "Charger les données avec ```pandas```, et ne garder que les colonnes ```DATE``` et ```TG```.\n",
    "Diviser par 10 la colonne TG pour obtenir des températures en degrés Celsius.\n",
    "Traiter les éléments de température aberrants comme des ```NaN```."
   ]
  },
  {
   "cell_type": "markdown",
   "metadata": {},
   "source": [
    "## Question 6 :\n",
    "Créer un DataFrame **pandas** des températures journalières entre le 1er janvier et le 30 avril 2007. Afficher sur un même graphique ces températures et la séries *Global_active_power*."
   ]
  },
  {
   "cell_type": "markdown",
   "metadata": {},
   "source": [
    "## Question 7 :\n",
    "On considère maintenant le jeu de données ```20080421_20160927-PA13_auto.csv```.\n",
    "Proposer une visualisation de la pollution pour l'ozone sur la période d'étude."
   ]
  },
  {
   "cell_type": "code",
   "execution_count": null,
   "metadata": {},
   "outputs": [],
   "source": [
    "!wget -OMDIDATA.zip https://partage.imt.fr/index.php/s/5NGHoNZtXKzGqGK/download\n",
    "!unzip MDIDATA.zip"
   ]
  },
  {
   "cell_type": "code",
   "execution_count": null,
   "metadata": {},
   "outputs": [],
   "source": [
    "my_file ='MDI220_TP1_202223/20080421_20160927-PA13_auto.csv'"
   ]
  },
  {
   "cell_type": "markdown",
   "metadata": {},
   "source": [
    "## Question 8 :\n",
    " Proposer une visualisation de la pollution la plus critique par année pour l'ozone et pour pour le\n",
    "dioxyde d'azote."
   ]
  },
  {
   "cell_type": "markdown",
   "metadata": {},
   "source": [
    "## Question 9 :\n",
    "Donner une représentation par mois de la pollution. Quel est le mois le plus pollué pour l'ozone, pour le dioxyde de souffre?"
   ]
  },
  {
   "cell_type": "code",
   "execution_count": null,
   "metadata": {},
   "outputs": [],
   "source": [
    "# study month-wide"
   ]
  }
 ],
 "metadata": {
  "kernelspec": {
   "display_name": "Python 3",
   "language": "python",
   "name": "python3"
  },
  "language_info": {
   "codemirror_mode": {
    "name": "ipython",
    "version": 3
   },
   "file_extension": ".py",
   "mimetype": "text/x-python",
   "name": "python",
   "nbconvert_exporter": "python",
   "pygments_lexer": "ipython3",
   "version": "3.8.8"
  },
  "vscode": {
   "interpreter": {
    "hash": "710df3e4779382483a834ad4eda725f9d8de0310b1959917769e9b4b37783285"
   }
  }
 },
 "nbformat": 4,
 "nbformat_minor": 1
}
